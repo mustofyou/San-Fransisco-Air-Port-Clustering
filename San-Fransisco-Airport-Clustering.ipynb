{
 "cells": [
  {
   "cell_type": "markdown",
   "id": "3bb31f7a",
   "metadata": {},
   "source": [
    "# San Francisco Airport - Clustering"
   ]
  },
  {
   "cell_type": "markdown",
   "id": "8c12d722",
   "metadata": {},
   "source": [
    "In this notebook, we focus on analyzing and preprocessing air traffic passenger statistics from San Francisco Airport.\n",
    "\n",
    "The dataset includes multiple features related to airlines, geographic regions, and passenger movements.\n",
    "\n",
    "Our main objective is to clean the data, address missing values, and conduct clustering analysis to uncover meaningful patterns and insights.\n",
    "\n",
    "To accomplish this, we will apply methods such as data imputation, feature engineering, and clustering techniques like KMeans.."
   ]
  },
  {
   "cell_type": "code",
   "execution_count": 4,
   "id": "cc6b9b67",
   "metadata": {},
   "outputs": [],
   "source": [
    "import pandas as pd"
   ]
  },
  {
   "cell_type": "code",
   "execution_count": 5,
   "id": "c4a3c8f2",
   "metadata": {},
   "outputs": [],
   "source": [
    "df = pd.read_csv('data/air-traffic-passenger-statistics.csv')"
   ]
  },
  {
   "cell_type": "code",
   "execution_count": 6,
   "id": "d7c95770",
   "metadata": {},
   "outputs": [
    {
     "name": "stdout",
     "output_type": "stream",
     "text": [
      "<class 'pandas.core.frame.DataFrame'>\n",
      "RangeIndex: 18885 entries, 0 to 18884\n",
      "Data columns (total 12 columns):\n",
      " #   Column                       Non-Null Count  Dtype \n",
      "---  ------                       --------------  ----- \n",
      " 0   Activity Period              18885 non-null  int64 \n",
      " 1   Operating Airline            18885 non-null  object\n",
      " 2   Operating Airline IATA Code  18822 non-null  object\n",
      " 3   Published Airline            18885 non-null  object\n",
      " 4   Published Airline IATA Code  18822 non-null  object\n",
      " 5   GEO Summary                  18885 non-null  object\n",
      " 6   GEO Region                   18885 non-null  object\n",
      " 7   Activity Type Code           18885 non-null  object\n",
      " 8   Price Category Code          18885 non-null  object\n",
      " 9   Terminal                     18885 non-null  object\n",
      " 10  Boarding Area                18885 non-null  object\n",
      " 11  Passenger Count              18885 non-null  int64 \n",
      "dtypes: int64(2), object(10)\n",
      "memory usage: 1.7+ MB\n",
      "None\n"
     ]
    }
   ],
   "source": [
    "print(df.info())"
   ]
  },
  {
   "cell_type": "code",
   "execution_count": 7,
   "id": "a71e8f0e",
   "metadata": {},
   "outputs": [
    {
     "data": {
      "text/html": [
       "<div>\n",
       "<style scoped>\n",
       "    .dataframe tbody tr th:only-of-type {\n",
       "        vertical-align: middle;\n",
       "    }\n",
       "\n",
       "    .dataframe tbody tr th {\n",
       "        vertical-align: top;\n",
       "    }\n",
       "\n",
       "    .dataframe thead th {\n",
       "        text-align: right;\n",
       "    }\n",
       "</style>\n",
       "<table border=\"1\" class=\"dataframe\">\n",
       "  <thead>\n",
       "    <tr style=\"text-align: right;\">\n",
       "      <th></th>\n",
       "      <th>Activity Period</th>\n",
       "      <th>Operating Airline</th>\n",
       "      <th>Operating Airline IATA Code</th>\n",
       "      <th>Published Airline</th>\n",
       "      <th>Published Airline IATA Code</th>\n",
       "      <th>GEO Summary</th>\n",
       "      <th>GEO Region</th>\n",
       "      <th>Activity Type Code</th>\n",
       "      <th>Price Category Code</th>\n",
       "      <th>Terminal</th>\n",
       "      <th>Boarding Area</th>\n",
       "      <th>Passenger Count</th>\n",
       "    </tr>\n",
       "  </thead>\n",
       "  <tbody>\n",
       "    <tr>\n",
       "      <th>0</th>\n",
       "      <td>200507</td>\n",
       "      <td>ATA Airlines</td>\n",
       "      <td>TZ</td>\n",
       "      <td>ATA Airlines</td>\n",
       "      <td>TZ</td>\n",
       "      <td>Domestic</td>\n",
       "      <td>US</td>\n",
       "      <td>Deplaned</td>\n",
       "      <td>Low Fare</td>\n",
       "      <td>Terminal 1</td>\n",
       "      <td>B</td>\n",
       "      <td>27271</td>\n",
       "    </tr>\n",
       "    <tr>\n",
       "      <th>1</th>\n",
       "      <td>200507</td>\n",
       "      <td>ATA Airlines</td>\n",
       "      <td>TZ</td>\n",
       "      <td>ATA Airlines</td>\n",
       "      <td>TZ</td>\n",
       "      <td>Domestic</td>\n",
       "      <td>US</td>\n",
       "      <td>Enplaned</td>\n",
       "      <td>Low Fare</td>\n",
       "      <td>Terminal 1</td>\n",
       "      <td>B</td>\n",
       "      <td>29131</td>\n",
       "    </tr>\n",
       "    <tr>\n",
       "      <th>2</th>\n",
       "      <td>200507</td>\n",
       "      <td>ATA Airlines</td>\n",
       "      <td>TZ</td>\n",
       "      <td>ATA Airlines</td>\n",
       "      <td>TZ</td>\n",
       "      <td>Domestic</td>\n",
       "      <td>US</td>\n",
       "      <td>Thru / Transit</td>\n",
       "      <td>Low Fare</td>\n",
       "      <td>Terminal 1</td>\n",
       "      <td>B</td>\n",
       "      <td>5415</td>\n",
       "    </tr>\n",
       "    <tr>\n",
       "      <th>3</th>\n",
       "      <td>200507</td>\n",
       "      <td>Air Canada</td>\n",
       "      <td>AC</td>\n",
       "      <td>Air Canada</td>\n",
       "      <td>AC</td>\n",
       "      <td>International</td>\n",
       "      <td>Canada</td>\n",
       "      <td>Deplaned</td>\n",
       "      <td>Other</td>\n",
       "      <td>Terminal 1</td>\n",
       "      <td>B</td>\n",
       "      <td>35156</td>\n",
       "    </tr>\n",
       "    <tr>\n",
       "      <th>4</th>\n",
       "      <td>200507</td>\n",
       "      <td>Air Canada</td>\n",
       "      <td>AC</td>\n",
       "      <td>Air Canada</td>\n",
       "      <td>AC</td>\n",
       "      <td>International</td>\n",
       "      <td>Canada</td>\n",
       "      <td>Enplaned</td>\n",
       "      <td>Other</td>\n",
       "      <td>Terminal 1</td>\n",
       "      <td>B</td>\n",
       "      <td>34090</td>\n",
       "    </tr>\n",
       "  </tbody>\n",
       "</table>\n",
       "</div>"
      ],
      "text/plain": [
       "   Activity Period Operating Airline Operating Airline IATA Code  \\\n",
       "0           200507      ATA Airlines                          TZ   \n",
       "1           200507      ATA Airlines                          TZ   \n",
       "2           200507      ATA Airlines                          TZ   \n",
       "3           200507        Air Canada                          AC   \n",
       "4           200507        Air Canada                          AC   \n",
       "\n",
       "  Published Airline Published Airline IATA Code    GEO Summary GEO Region  \\\n",
       "0      ATA Airlines                          TZ       Domestic         US   \n",
       "1      ATA Airlines                          TZ       Domestic         US   \n",
       "2      ATA Airlines                          TZ       Domestic         US   \n",
       "3        Air Canada                          AC  International     Canada   \n",
       "4        Air Canada                          AC  International     Canada   \n",
       "\n",
       "  Activity Type Code Price Category Code    Terminal Boarding Area  \\\n",
       "0           Deplaned            Low Fare  Terminal 1             B   \n",
       "1           Enplaned            Low Fare  Terminal 1             B   \n",
       "2     Thru / Transit            Low Fare  Terminal 1             B   \n",
       "3           Deplaned               Other  Terminal 1             B   \n",
       "4           Enplaned               Other  Terminal 1             B   \n",
       "\n",
       "   Passenger Count  \n",
       "0            27271  \n",
       "1            29131  \n",
       "2             5415  \n",
       "3            35156  \n",
       "4            34090  "
      ]
     },
     "execution_count": 7,
     "metadata": {},
     "output_type": "execute_result"
    }
   ],
   "source": [
    "df.head()"
   ]
  },
  {
   "cell_type": "code",
   "execution_count": 8,
   "id": "f6695381",
   "metadata": {},
   "outputs": [
    {
     "data": {
      "text/html": [
       "<div>\n",
       "<style scoped>\n",
       "    .dataframe tbody tr th:only-of-type {\n",
       "        vertical-align: middle;\n",
       "    }\n",
       "\n",
       "    .dataframe tbody tr th {\n",
       "        vertical-align: top;\n",
       "    }\n",
       "\n",
       "    .dataframe thead th {\n",
       "        text-align: right;\n",
       "    }\n",
       "</style>\n",
       "<table border=\"1\" class=\"dataframe\">\n",
       "  <thead>\n",
       "    <tr style=\"text-align: right;\">\n",
       "      <th></th>\n",
       "      <th>Activity Period</th>\n",
       "      <th>Operating Airline</th>\n",
       "      <th>Operating Airline IATA Code</th>\n",
       "      <th>Published Airline</th>\n",
       "      <th>Published Airline IATA Code</th>\n",
       "      <th>GEO Summary</th>\n",
       "      <th>GEO Region</th>\n",
       "      <th>Activity Type Code</th>\n",
       "      <th>Price Category Code</th>\n",
       "      <th>Terminal</th>\n",
       "      <th>Boarding Area</th>\n",
       "      <th>Passenger Count</th>\n",
       "    </tr>\n",
       "  </thead>\n",
       "  <tbody>\n",
       "    <tr>\n",
       "      <th>18880</th>\n",
       "      <td>201806</td>\n",
       "      <td>WOW Air</td>\n",
       "      <td>WW</td>\n",
       "      <td>WOW Air</td>\n",
       "      <td>WW</td>\n",
       "      <td>International</td>\n",
       "      <td>Europe</td>\n",
       "      <td>Enplaned</td>\n",
       "      <td>Other</td>\n",
       "      <td>International</td>\n",
       "      <td>G</td>\n",
       "      <td>50</td>\n",
       "    </tr>\n",
       "    <tr>\n",
       "      <th>18881</th>\n",
       "      <td>201806</td>\n",
       "      <td>WestJet Airlines</td>\n",
       "      <td>WS</td>\n",
       "      <td>WestJet Airlines</td>\n",
       "      <td>WS</td>\n",
       "      <td>International</td>\n",
       "      <td>Canada</td>\n",
       "      <td>Deplaned</td>\n",
       "      <td>Other</td>\n",
       "      <td>International</td>\n",
       "      <td>A</td>\n",
       "      <td>10868</td>\n",
       "    </tr>\n",
       "    <tr>\n",
       "      <th>18882</th>\n",
       "      <td>201806</td>\n",
       "      <td>WestJet Airlines</td>\n",
       "      <td>WS</td>\n",
       "      <td>WestJet Airlines</td>\n",
       "      <td>WS</td>\n",
       "      <td>International</td>\n",
       "      <td>Canada</td>\n",
       "      <td>Enplaned</td>\n",
       "      <td>Other</td>\n",
       "      <td>International</td>\n",
       "      <td>A</td>\n",
       "      <td>11664</td>\n",
       "    </tr>\n",
       "    <tr>\n",
       "      <th>18883</th>\n",
       "      <td>201806</td>\n",
       "      <td>XL Airways France</td>\n",
       "      <td>SE</td>\n",
       "      <td>XL Airways France</td>\n",
       "      <td>SE</td>\n",
       "      <td>International</td>\n",
       "      <td>Europe</td>\n",
       "      <td>Deplaned</td>\n",
       "      <td>Other</td>\n",
       "      <td>International</td>\n",
       "      <td>A</td>\n",
       "      <td>804</td>\n",
       "    </tr>\n",
       "    <tr>\n",
       "      <th>18884</th>\n",
       "      <td>201806</td>\n",
       "      <td>XL Airways France</td>\n",
       "      <td>SE</td>\n",
       "      <td>XL Airways France</td>\n",
       "      <td>SE</td>\n",
       "      <td>International</td>\n",
       "      <td>Europe</td>\n",
       "      <td>Enplaned</td>\n",
       "      <td>Other</td>\n",
       "      <td>International</td>\n",
       "      <td>A</td>\n",
       "      <td>1243</td>\n",
       "    </tr>\n",
       "  </tbody>\n",
       "</table>\n",
       "</div>"
      ],
      "text/plain": [
       "       Activity Period  Operating Airline Operating Airline IATA Code  \\\n",
       "18880           201806            WOW Air                          WW   \n",
       "18881           201806   WestJet Airlines                          WS   \n",
       "18882           201806   WestJet Airlines                          WS   \n",
       "18883           201806  XL Airways France                          SE   \n",
       "18884           201806  XL Airways France                          SE   \n",
       "\n",
       "       Published Airline Published Airline IATA Code    GEO Summary  \\\n",
       "18880            WOW Air                          WW  International   \n",
       "18881   WestJet Airlines                          WS  International   \n",
       "18882   WestJet Airlines                          WS  International   \n",
       "18883  XL Airways France                          SE  International   \n",
       "18884  XL Airways France                          SE  International   \n",
       "\n",
       "      GEO Region Activity Type Code Price Category Code       Terminal  \\\n",
       "18880     Europe           Enplaned               Other  International   \n",
       "18881     Canada           Deplaned               Other  International   \n",
       "18882     Canada           Enplaned               Other  International   \n",
       "18883     Europe           Deplaned               Other  International   \n",
       "18884     Europe           Enplaned               Other  International   \n",
       "\n",
       "      Boarding Area  Passenger Count  \n",
       "18880             G               50  \n",
       "18881             A            10868  \n",
       "18882             A            11664  \n",
       "18883             A              804  \n",
       "18884             A             1243  "
      ]
     },
     "execution_count": 8,
     "metadata": {},
     "output_type": "execute_result"
    }
   ],
   "source": [
    "df.tail()"
   ]
  },
  {
   "cell_type": "code",
   "execution_count": 9,
   "id": "4bc40c54",
   "metadata": {},
   "outputs": [
    {
     "data": {
      "text/plain": [
       "Operating Airline IATA Code    63\n",
       "Published Airline IATA Code    63\n",
       "Activity Period                 0\n",
       "Operating Airline               0\n",
       "Published Airline               0\n",
       "GEO Summary                     0\n",
       "GEO Region                      0\n",
       "Activity Type Code              0\n",
       "Price Category Code             0\n",
       "Terminal                        0\n",
       "Boarding Area                   0\n",
       "Passenger Count                 0\n",
       "dtype: int64"
      ]
     },
     "execution_count": 9,
     "metadata": {},
     "output_type": "execute_result"
    }
   ],
   "source": [
    "df.isnull().sum().sort_values(ascending=False)"
   ]
  },
  {
   "cell_type": "code",
   "execution_count": 10,
   "id": "d7d26b85",
   "metadata": {},
   "outputs": [
    {
     "data": {
      "text/html": [
       "<div>\n",
       "<style scoped>\n",
       "    .dataframe tbody tr th:only-of-type {\n",
       "        vertical-align: middle;\n",
       "    }\n",
       "\n",
       "    .dataframe tbody tr th {\n",
       "        vertical-align: top;\n",
       "    }\n",
       "\n",
       "    .dataframe thead th {\n",
       "        text-align: right;\n",
       "    }\n",
       "</style>\n",
       "<table border=\"1\" class=\"dataframe\">\n",
       "  <thead>\n",
       "    <tr style=\"text-align: right;\">\n",
       "      <th></th>\n",
       "      <th>Operating Airline</th>\n",
       "      <th>Operating Airline IATA Code</th>\n",
       "      <th>Published Airline</th>\n",
       "      <th>Published Airline IATA Code</th>\n",
       "    </tr>\n",
       "  </thead>\n",
       "  <tbody>\n",
       "    <tr>\n",
       "      <th>17851</th>\n",
       "      <td>British Airways</td>\n",
       "      <td>BA</td>\n",
       "      <td>British Airways</td>\n",
       "      <td>BA</td>\n",
       "    </tr>\n",
       "    <tr>\n",
       "      <th>16583</th>\n",
       "      <td>Swiss International</td>\n",
       "      <td>LX</td>\n",
       "      <td>Swiss International</td>\n",
       "      <td>LX</td>\n",
       "    </tr>\n",
       "    <tr>\n",
       "      <th>903</th>\n",
       "      <td>United Airlines - Pre 07/01/2013</td>\n",
       "      <td>UA</td>\n",
       "      <td>United Airlines - Pre 07/01/2013</td>\n",
       "      <td>UA</td>\n",
       "    </tr>\n",
       "    <tr>\n",
       "      <th>4761</th>\n",
       "      <td>United Airlines - Pre 07/01/2013</td>\n",
       "      <td>UA</td>\n",
       "      <td>United Airlines - Pre 07/01/2013</td>\n",
       "      <td>UA</td>\n",
       "    </tr>\n",
       "    <tr>\n",
       "      <th>7051</th>\n",
       "      <td>SkyWest Airlines</td>\n",
       "      <td>OO</td>\n",
       "      <td>United Airlines - Pre 07/01/2013</td>\n",
       "      <td>UA</td>\n",
       "    </tr>\n",
       "  </tbody>\n",
       "</table>\n",
       "</div>"
      ],
      "text/plain": [
       "                      Operating Airline Operating Airline IATA Code  \\\n",
       "17851                   British Airways                          BA   \n",
       "16583               Swiss International                          LX   \n",
       "903    United Airlines - Pre 07/01/2013                          UA   \n",
       "4761   United Airlines - Pre 07/01/2013                          UA   \n",
       "7051                   SkyWest Airlines                          OO   \n",
       "\n",
       "                      Published Airline Published Airline IATA Code  \n",
       "17851                   British Airways                          BA  \n",
       "16583               Swiss International                          LX  \n",
       "903    United Airlines - Pre 07/01/2013                          UA  \n",
       "4761   United Airlines - Pre 07/01/2013                          UA  \n",
       "7051   United Airlines - Pre 07/01/2013                          UA  "
      ]
     },
     "execution_count": 10,
     "metadata": {},
     "output_type": "execute_result"
    }
   ],
   "source": [
    "df[['Operating Airline', 'Operating Airline IATA Code', 'Published Airline', 'Published Airline IATA Code']].sample(5)\n"
   ]
  },
  {
   "cell_type": "markdown",
   "id": "525526de",
   "metadata": {},
   "source": [
    "## Missing Values"
   ]
  },
  {
   "cell_type": "markdown",
   "id": "f0af9598",
   "metadata": {},
   "source": [
    "### Operating Airline IATA Code"
   ]
  },
  {
   "cell_type": "code",
   "execution_count": 12,
   "id": "9b2b8bc4",
   "metadata": {},
   "outputs": [
    {
     "data": {
      "text/plain": [
       "(UA    3807\n",
       " OO    1212\n",
       " AS     891\n",
       " VX     462\n",
       " DL     445\n",
       "       ... \n",
       " IB       6\n",
       " WO       3\n",
       " XP       2\n",
       " 5Y       2\n",
       " EZ       2\n",
       " Name: Operating Airline IATA Code, Length: 82, dtype: int64,\n",
       " 63)"
      ]
     },
     "execution_count": 12,
     "metadata": {},
     "output_type": "execute_result"
    }
   ],
   "source": [
    "df[\"Operating Airline IATA Code\"].value_counts(),df[\"Operating Airline IATA Code\"].isnull().sum()\n"
   ]
  },
  {
   "cell_type": "code",
   "execution_count": 13,
   "id": "58ce510e",
   "metadata": {},
   "outputs": [
    {
     "data": {
      "text/plain": [
       "(United Airlines - Pre 07/01/2013    2154\n",
       " United Airlines                     1653\n",
       " SkyWest Airlines                    1212\n",
       " Alaska Airlines                      891\n",
       " Virgin America                       462\n",
       "                                     ... \n",
       " Xtra Airways                           2\n",
       " Evergreen International Airlines       2\n",
       " Pacific Aviation                       2\n",
       " Icelandair EHF                         2\n",
       " Boeing Company                         1\n",
       " Name: Operating Airline, Length: 89, dtype: int64,\n",
       " 0)"
      ]
     },
     "execution_count": 13,
     "metadata": {},
     "output_type": "execute_result"
    }
   ],
   "source": [
    "df[\"Operating Airline\"].value_counts(),df[\"Operating Airline\"].isnull().sum()\n"
   ]
  },
  {
   "cell_type": "code",
   "execution_count": 14,
   "id": "fa9c782b",
   "metadata": {},
   "outputs": [
    {
     "data": {
      "text/html": [
       "<div>\n",
       "<style scoped>\n",
       "    .dataframe tbody tr th:only-of-type {\n",
       "        vertical-align: middle;\n",
       "    }\n",
       "\n",
       "    .dataframe tbody tr th {\n",
       "        vertical-align: top;\n",
       "    }\n",
       "\n",
       "    .dataframe thead th {\n",
       "        text-align: right;\n",
       "    }\n",
       "</style>\n",
       "<table border=\"1\" class=\"dataframe\">\n",
       "  <thead>\n",
       "    <tr style=\"text-align: right;\">\n",
       "      <th></th>\n",
       "      <th>Activity Period</th>\n",
       "      <th>Operating Airline</th>\n",
       "      <th>Operating Airline IATA Code</th>\n",
       "      <th>Published Airline</th>\n",
       "      <th>Published Airline IATA Code</th>\n",
       "      <th>GEO Summary</th>\n",
       "      <th>GEO Region</th>\n",
       "      <th>Activity Type Code</th>\n",
       "      <th>Price Category Code</th>\n",
       "      <th>Terminal</th>\n",
       "      <th>Boarding Area</th>\n",
       "      <th>Passenger Count</th>\n",
       "    </tr>\n",
       "  </thead>\n",
       "  <tbody>\n",
       "    <tr>\n",
       "      <th>12122</th>\n",
       "      <td>201403</td>\n",
       "      <td>Swissport USA</td>\n",
       "      <td>NaN</td>\n",
       "      <td>Swissport USA</td>\n",
       "      <td>NaN</td>\n",
       "      <td>Domestic</td>\n",
       "      <td>US</td>\n",
       "      <td>Deplaned</td>\n",
       "      <td>Other</td>\n",
       "      <td>International</td>\n",
       "      <td>A</td>\n",
       "      <td>211</td>\n",
       "    </tr>\n",
       "    <tr>\n",
       "      <th>17632</th>\n",
       "      <td>201710</td>\n",
       "      <td>Swissport USA</td>\n",
       "      <td>NaN</td>\n",
       "      <td>Swissport USA</td>\n",
       "      <td>NaN</td>\n",
       "      <td>International</td>\n",
       "      <td>Europe</td>\n",
       "      <td>Enplaned</td>\n",
       "      <td>Other</td>\n",
       "      <td>International</td>\n",
       "      <td>A</td>\n",
       "      <td>73</td>\n",
       "    </tr>\n",
       "  </tbody>\n",
       "</table>\n",
       "</div>"
      ],
      "text/plain": [
       "       Activity Period Operating Airline Operating Airline IATA Code  \\\n",
       "12122           201403     Swissport USA                         NaN   \n",
       "17632           201710     Swissport USA                         NaN   \n",
       "\n",
       "      Published Airline Published Airline IATA Code    GEO Summary GEO Region  \\\n",
       "12122     Swissport USA                         NaN       Domestic         US   \n",
       "17632     Swissport USA                         NaN  International     Europe   \n",
       "\n",
       "      Activity Type Code Price Category Code       Terminal Boarding Area  \\\n",
       "12122           Deplaned               Other  International             A   \n",
       "17632           Enplaned               Other  International             A   \n",
       "\n",
       "       Passenger Count  \n",
       "12122              211  \n",
       "17632               73  "
      ]
     },
     "execution_count": 14,
     "metadata": {},
     "output_type": "execute_result"
    }
   ],
   "source": [
    "df[df[\"Operating Airline IATA Code\"].isnull()].sample(2)\n"
   ]
  },
  {
   "cell_type": "code",
   "execution_count": 15,
   "id": "647779b3",
   "metadata": {},
   "outputs": [
    {
     "data": {
      "text/html": [
       "<div>\n",
       "<style scoped>\n",
       "    .dataframe tbody tr th:only-of-type {\n",
       "        vertical-align: middle;\n",
       "    }\n",
       "\n",
       "    .dataframe tbody tr th {\n",
       "        vertical-align: top;\n",
       "    }\n",
       "\n",
       "    .dataframe thead th {\n",
       "        text-align: right;\n",
       "    }\n",
       "</style>\n",
       "<table border=\"1\" class=\"dataframe\">\n",
       "  <thead>\n",
       "    <tr style=\"text-align: right;\">\n",
       "      <th></th>\n",
       "      <th>Activity Period</th>\n",
       "      <th>Operating Airline</th>\n",
       "      <th>Operating Airline IATA Code</th>\n",
       "      <th>Published Airline</th>\n",
       "      <th>Published Airline IATA Code</th>\n",
       "      <th>GEO Summary</th>\n",
       "      <th>GEO Region</th>\n",
       "      <th>Activity Type Code</th>\n",
       "      <th>Price Category Code</th>\n",
       "      <th>Terminal</th>\n",
       "      <th>Boarding Area</th>\n",
       "      <th>Passenger Count</th>\n",
       "    </tr>\n",
       "  </thead>\n",
       "  <tbody>\n",
       "    <tr>\n",
       "      <th>8559</th>\n",
       "      <td>201108</td>\n",
       "      <td>Servisair</td>\n",
       "      <td>NaN</td>\n",
       "      <td>Servisair</td>\n",
       "      <td>NaN</td>\n",
       "      <td>Domestic</td>\n",
       "      <td>US</td>\n",
       "      <td>Deplaned</td>\n",
       "      <td>Low Fare</td>\n",
       "      <td>International</td>\n",
       "      <td>A</td>\n",
       "      <td>114</td>\n",
       "    </tr>\n",
       "  </tbody>\n",
       "</table>\n",
       "</div>"
      ],
      "text/plain": [
       "      Activity Period Operating Airline Operating Airline IATA Code  \\\n",
       "8559           201108         Servisair                         NaN   \n",
       "\n",
       "     Published Airline Published Airline IATA Code GEO Summary GEO Region  \\\n",
       "8559         Servisair                         NaN    Domestic         US   \n",
       "\n",
       "     Activity Type Code Price Category Code       Terminal Boarding Area  \\\n",
       "8559           Deplaned            Low Fare  International             A   \n",
       "\n",
       "      Passenger Count  \n",
       "8559              114  "
      ]
     },
     "execution_count": 15,
     "metadata": {},
     "output_type": "execute_result"
    }
   ],
   "source": [
    "df[df[\"Operating Airline\"] == \"Servisair\"].sample()\n"
   ]
  },
  {
   "cell_type": "markdown",
   "id": "094f5234",
   "metadata": {},
   "source": [
    "### Servisair -> SGH"
   ]
  },
  {
   "cell_type": "code",
   "execution_count": 16,
   "id": "3289dc40",
   "metadata": {},
   "outputs": [],
   "source": [
    "df.loc[df[\"Operating Airline\"] == \"Servisair\", \"Operating Airline IATA Code\"] = \"SGH\"\n"
   ]
  },
  {
   "cell_type": "code",
   "execution_count": 17,
   "id": "2a65dda6",
   "metadata": {},
   "outputs": [
    {
     "data": {
      "text/plain": [
       "Published Airline IATA Code    63\n",
       "Operating Airline IATA Code    27\n",
       "Activity Period                 0\n",
       "Operating Airline               0\n",
       "Published Airline               0\n",
       "GEO Summary                     0\n",
       "GEO Region                      0\n",
       "Activity Type Code              0\n",
       "Price Category Code             0\n",
       "Terminal                        0\n",
       "Boarding Area                   0\n",
       "Passenger Count                 0\n",
       "dtype: int64"
      ]
     },
     "execution_count": 17,
     "metadata": {},
     "output_type": "execute_result"
    }
   ],
   "source": [
    "df.isnull().sum().sort_values(ascending=False)\n"
   ]
  },
  {
   "cell_type": "markdown",
   "id": "1f50a0a4",
   "metadata": {},
   "source": [
    "### Swissport USA -> SWP"
   ]
  },
  {
   "cell_type": "code",
   "execution_count": 18,
   "id": "eda75974",
   "metadata": {},
   "outputs": [
    {
     "data": {
      "text/html": [
       "<div>\n",
       "<style scoped>\n",
       "    .dataframe tbody tr th:only-of-type {\n",
       "        vertical-align: middle;\n",
       "    }\n",
       "\n",
       "    .dataframe tbody tr th {\n",
       "        vertical-align: top;\n",
       "    }\n",
       "\n",
       "    .dataframe thead th {\n",
       "        text-align: right;\n",
       "    }\n",
       "</style>\n",
       "<table border=\"1\" class=\"dataframe\">\n",
       "  <thead>\n",
       "    <tr style=\"text-align: right;\">\n",
       "      <th></th>\n",
       "      <th>Activity Period</th>\n",
       "      <th>Operating Airline</th>\n",
       "      <th>Operating Airline IATA Code</th>\n",
       "      <th>Published Airline</th>\n",
       "      <th>Published Airline IATA Code</th>\n",
       "      <th>GEO Summary</th>\n",
       "      <th>GEO Region</th>\n",
       "      <th>Activity Type Code</th>\n",
       "      <th>Price Category Code</th>\n",
       "      <th>Terminal</th>\n",
       "      <th>Boarding Area</th>\n",
       "      <th>Passenger Count</th>\n",
       "    </tr>\n",
       "  </thead>\n",
       "  <tbody>\n",
       "    <tr>\n",
       "      <th>16188</th>\n",
       "      <td>201612</td>\n",
       "      <td>Swissport USA</td>\n",
       "      <td>NaN</td>\n",
       "      <td>Swissport USA</td>\n",
       "      <td>NaN</td>\n",
       "      <td>International</td>\n",
       "      <td>Europe</td>\n",
       "      <td>Enplaned</td>\n",
       "      <td>Other</td>\n",
       "      <td>International</td>\n",
       "      <td>A</td>\n",
       "      <td>274</td>\n",
       "    </tr>\n",
       "    <tr>\n",
       "      <th>148</th>\n",
       "      <td>200508</td>\n",
       "      <td>Boeing Company</td>\n",
       "      <td>NaN</td>\n",
       "      <td>Boeing Company</td>\n",
       "      <td>NaN</td>\n",
       "      <td>Domestic</td>\n",
       "      <td>US</td>\n",
       "      <td>Deplaned</td>\n",
       "      <td>Other</td>\n",
       "      <td>Other</td>\n",
       "      <td>Other</td>\n",
       "      <td>18</td>\n",
       "    </tr>\n",
       "  </tbody>\n",
       "</table>\n",
       "</div>"
      ],
      "text/plain": [
       "       Activity Period Operating Airline Operating Airline IATA Code  \\\n",
       "16188           201612     Swissport USA                         NaN   \n",
       "148             200508    Boeing Company                         NaN   \n",
       "\n",
       "      Published Airline Published Airline IATA Code    GEO Summary GEO Region  \\\n",
       "16188     Swissport USA                         NaN  International     Europe   \n",
       "148      Boeing Company                         NaN       Domestic         US   \n",
       "\n",
       "      Activity Type Code Price Category Code       Terminal Boarding Area  \\\n",
       "16188           Enplaned               Other  International             A   \n",
       "148             Deplaned               Other          Other         Other   \n",
       "\n",
       "       Passenger Count  \n",
       "16188              274  \n",
       "148                 18  "
      ]
     },
     "execution_count": 18,
     "metadata": {},
     "output_type": "execute_result"
    }
   ],
   "source": [
    "df[df[\"Operating Airline IATA Code\"].isnull()].sample(2)"
   ]
  },
  {
   "cell_type": "code",
   "execution_count": 19,
   "id": "eede82fb",
   "metadata": {},
   "outputs": [
    {
     "data": {
      "text/html": [
       "<div>\n",
       "<style scoped>\n",
       "    .dataframe tbody tr th:only-of-type {\n",
       "        vertical-align: middle;\n",
       "    }\n",
       "\n",
       "    .dataframe tbody tr th {\n",
       "        vertical-align: top;\n",
       "    }\n",
       "\n",
       "    .dataframe thead th {\n",
       "        text-align: right;\n",
       "    }\n",
       "</style>\n",
       "<table border=\"1\" class=\"dataframe\">\n",
       "  <thead>\n",
       "    <tr style=\"text-align: right;\">\n",
       "      <th></th>\n",
       "      <th>Activity Period</th>\n",
       "      <th>Operating Airline</th>\n",
       "      <th>Operating Airline IATA Code</th>\n",
       "      <th>Published Airline</th>\n",
       "      <th>Published Airline IATA Code</th>\n",
       "      <th>GEO Summary</th>\n",
       "      <th>GEO Region</th>\n",
       "      <th>Activity Type Code</th>\n",
       "      <th>Price Category Code</th>\n",
       "      <th>Terminal</th>\n",
       "      <th>Boarding Area</th>\n",
       "      <th>Passenger Count</th>\n",
       "    </tr>\n",
       "  </thead>\n",
       "  <tbody>\n",
       "    <tr>\n",
       "      <th>12008</th>\n",
       "      <td>201402</td>\n",
       "      <td>Swissport USA</td>\n",
       "      <td>NaN</td>\n",
       "      <td>Swissport USA</td>\n",
       "      <td>NaN</td>\n",
       "      <td>International</td>\n",
       "      <td>Asia</td>\n",
       "      <td>Deplaned</td>\n",
       "      <td>Other</td>\n",
       "      <td>International</td>\n",
       "      <td>A</td>\n",
       "      <td>216</td>\n",
       "    </tr>\n",
       "    <tr>\n",
       "      <th>16052</th>\n",
       "      <td>201611</td>\n",
       "      <td>Swissport USA</td>\n",
       "      <td>NaN</td>\n",
       "      <td>Swissport USA</td>\n",
       "      <td>NaN</td>\n",
       "      <td>International</td>\n",
       "      <td>Europe</td>\n",
       "      <td>Enplaned</td>\n",
       "      <td>Other</td>\n",
       "      <td>International</td>\n",
       "      <td>A</td>\n",
       "      <td>275</td>\n",
       "    </tr>\n",
       "  </tbody>\n",
       "</table>\n",
       "</div>"
      ],
      "text/plain": [
       "       Activity Period Operating Airline Operating Airline IATA Code  \\\n",
       "12008           201402     Swissport USA                         NaN   \n",
       "16052           201611     Swissport USA                         NaN   \n",
       "\n",
       "      Published Airline Published Airline IATA Code    GEO Summary GEO Region  \\\n",
       "12008     Swissport USA                         NaN  International       Asia   \n",
       "16052     Swissport USA                         NaN  International     Europe   \n",
       "\n",
       "      Activity Type Code Price Category Code       Terminal Boarding Area  \\\n",
       "12008           Deplaned               Other  International             A   \n",
       "16052           Enplaned               Other  International             A   \n",
       "\n",
       "       Passenger Count  \n",
       "12008              216  \n",
       "16052              275  "
      ]
     },
     "execution_count": 19,
     "metadata": {},
     "output_type": "execute_result"
    }
   ],
   "source": [
    "df[df[\"Operating Airline\"] == \"Swissport USA\"].sample(2)"
   ]
  },
  {
   "cell_type": "code",
   "execution_count": null,
   "id": "40cefd1b",
   "metadata": {},
   "outputs": [],
   "source": [
    "df.loc[df[\"Operating Airline\"] == \"Swissport USA\", \"Operating Airline IATA Code\"] = \"SWP\""
   ]
  },
  {
   "cell_type": "code",
   "execution_count": null,
   "id": "9f5880ab",
   "metadata": {},
   "outputs": [
    {
     "data": {
      "text/plain": [
       "Published Airline IATA Code    63\n",
       "Operating Airline IATA Code     5\n",
       "Activity Period                 0\n",
       "Operating Airline               0\n",
       "Published Airline               0\n",
       "GEO Summary                     0\n",
       "GEO Region                      0\n",
       "Activity Type Code              0\n",
       "Price Category Code             0\n",
       "Terminal                        0\n",
       "Boarding Area                   0\n",
       "Passenger Count                 0\n",
       "dtype: int64"
      ]
     },
     "execution_count": 21,
     "metadata": {},
     "output_type": "execute_result"
    }
   ],
   "source": [
    "df.isnull().sum().sort_values(ascending=False)"
   ]
  },
  {
   "cell_type": "code",
   "execution_count": null,
   "id": "22eea381",
   "metadata": {},
   "outputs": [
    {
     "data": {
      "text/plain": [
       "16869    Trego Dugan Aviation\n",
       "6920         Pacific Aviation\n",
       "16868    Trego Dugan Aviation\n",
       "6921         Pacific Aviation\n",
       "148            Boeing Company\n",
       "Name: Operating Airline, dtype: object"
      ]
     },
     "execution_count": 22,
     "metadata": {},
     "output_type": "execute_result"
    }
   ],
   "source": [
    "df[df[\"Operating Airline IATA Code\"].isnull()][\"Operating Airline\"].sample(5)"
   ]
  },
  {
   "cell_type": "markdown",
   "id": "37e9f090",
   "metadata": {},
   "source": [
    "### Trego Dugan Aviation -> TDA\n",
    "### Boeing Company -> BC\n",
    "### Pacific Aviation -> PA"
   ]
  },
  {
   "cell_type": "code",
   "execution_count": 23,
   "id": "ef82cf7f",
   "metadata": {},
   "outputs": [],
   "source": [
    "df.loc[df[\"Operating Airline\"] == \"Trego Dugan Aviation\", \"Operating Airline IATA Code\"] = \"TDA\""
   ]
  },
  {
   "cell_type": "code",
   "execution_count": 24,
   "id": "adbabbf6",
   "metadata": {},
   "outputs": [],
   "source": [
    "df.loc[df[\"Operating Airline\"] == \"Boeing Company\", \"Operating Airline IATA Code\"] = \"BC\""
   ]
  },
  {
   "cell_type": "code",
   "execution_count": 25,
   "id": "78a8233b",
   "metadata": {},
   "outputs": [],
   "source": [
    "df.loc[df[\"Operating Airline\"] == \"Pacific Aviation\", \"Operating Airline IATA Code\"] = \"PA\""
   ]
  },
  {
   "cell_type": "markdown",
   "id": "8040ecfb",
   "metadata": {},
   "source": [
    "### Published Airline IATA Code"
   ]
  },
  {
   "cell_type": "code",
   "execution_count": 27,
   "id": "4cef3218",
   "metadata": {},
   "outputs": [
    {
     "data": {
      "text/plain": [
       "Published Airline IATA Code    63\n",
       "Activity Period                 0\n",
       "Operating Airline               0\n",
       "Operating Airline IATA Code     0\n",
       "Published Airline               0\n",
       "GEO Summary                     0\n",
       "GEO Region                      0\n",
       "Activity Type Code              0\n",
       "Price Category Code             0\n",
       "Terminal                        0\n",
       "Boarding Area                   0\n",
       "Passenger Count                 0\n",
       "dtype: int64"
      ]
     },
     "execution_count": 27,
     "metadata": {},
     "output_type": "execute_result"
    }
   ],
   "source": [
    "df.isnull().sum().sort_values(ascending=False)"
   ]
  },
  {
   "cell_type": "code",
   "execution_count": 28,
   "id": "294d8895",
   "metadata": {},
   "outputs": [
    {
     "data": {
      "text/plain": [
       "array(['Boeing Company', 'Servisair', 'Pacific Aviation', 'Swissport USA',\n",
       "       'Trego Dugan Aviation'], dtype=object)"
      ]
     },
     "execution_count": 28,
     "metadata": {},
     "output_type": "execute_result"
    }
   ],
   "source": [
    "df[df[\"Published Airline IATA Code\"].isnull()][\"Operating Airline\"].unique()"
   ]
  },
  {
   "cell_type": "code",
   "execution_count": 29,
   "id": "3c809c53",
   "metadata": {},
   "outputs": [],
   "source": [
    "df.loc[df[\"Published Airline\"] == \"Boeing Company\", \"Published Airline IATA Code\"] = \"BC\"\n",
    "df.loc[df[\"Published Airline\"] == \"Servisair\", \"Published Airline IATA Code\"] = \"SGH\"\n",
    "df.loc[df[\"Published Airline\"] == \"Pacific Aviation\", \"Published Airline IATA Code\"] = \"PA\"\n",
    "df.loc[df[\"Published Airline\"] == \"Swissport USA\", \"Published Airline IATA Code\"] = \"SWP\"\n",
    "df.loc[df[\"Published Airline\"] == \"Trego Dugan Aviation\", \"Published Airline IATA Code\"] = \"TDA\"\n"
   ]
  },
  {
   "cell_type": "markdown",
   "id": "03bf8a8a",
   "metadata": {},
   "source": [
    "## Data Analysis "
   ]
  },
  {
   "cell_type": "code",
   "execution_count": 30,
   "id": "e5ef78d9",
   "metadata": {},
   "outputs": [
    {
     "name": "stdout",
     "output_type": "stream",
     "text": [
      "<class 'pandas.core.frame.DataFrame'>\n",
      "RangeIndex: 18885 entries, 0 to 18884\n",
      "Data columns (total 12 columns):\n",
      " #   Column                       Non-Null Count  Dtype \n",
      "---  ------                       --------------  ----- \n",
      " 0   Activity Period              18885 non-null  int64 \n",
      " 1   Operating Airline            18885 non-null  object\n",
      " 2   Operating Airline IATA Code  18885 non-null  object\n",
      " 3   Published Airline            18885 non-null  object\n",
      " 4   Published Airline IATA Code  18885 non-null  object\n",
      " 5   GEO Summary                  18885 non-null  object\n",
      " 6   GEO Region                   18885 non-null  object\n",
      " 7   Activity Type Code           18885 non-null  object\n",
      " 8   Price Category Code          18885 non-null  object\n",
      " 9   Terminal                     18885 non-null  object\n",
      " 10  Boarding Area                18885 non-null  object\n",
      " 11  Passenger Count              18885 non-null  int64 \n",
      "dtypes: int64(2), object(10)\n",
      "memory usage: 1.7+ MB\n"
     ]
    }
   ],
   "source": [
    "df.info()"
   ]
  },
  {
   "cell_type": "code",
   "execution_count": 31,
   "id": "35b75aab",
   "metadata": {},
   "outputs": [],
   "source": [
    "#operating airline and published airline are droped\n",
    "df.drop(columns=[\"Operating Airline\", \"Published Airline\"], inplace=True)"
   ]
  },
  {
   "cell_type": "code",
   "execution_count": 33,
   "id": "8aa9f12c",
   "metadata": {},
   "outputs": [
    {
     "data": {
      "text/plain": [
       "International    11904\n",
       "Domestic          6981\n",
       "Name: GEO Summary, dtype: int64"
      ]
     },
     "execution_count": 33,
     "metadata": {},
     "output_type": "execute_result"
    }
   ],
   "source": [
    "df[\"GEO Summary\"].value_counts() "
   ]
  },
  {
   "cell_type": "code",
   "execution_count": 34,
   "id": "9f3ecd6d",
   "metadata": {},
   "outputs": [
    {
     "data": {
      "text/plain": [
       "US                     6981\n",
       "Asia                   4073\n",
       "Europe                 2803\n",
       "Canada                 1794\n",
       "Mexico                 1455\n",
       "Australia / Oceania     951\n",
       "Central America         383\n",
       "Middle East             354\n",
       "South America            91\n",
       "Name: GEO Region, dtype: int64"
      ]
     },
     "execution_count": 34,
     "metadata": {},
     "output_type": "execute_result"
    }
   ],
   "source": [
    "df[\"GEO Region\"].value_counts()"
   ]
  },
  {
   "cell_type": "code",
   "execution_count": 35,
   "id": "5640eb07",
   "metadata": {},
   "outputs": [],
   "source": [
    "import numpy as np\n",
    "\n",
    "conditions = [\n",
    "    df[\"GEO Region\"].isin([\"US\", \"Canada\", \"Mexico\", \"Central America\", \"Caribbean\", \"South America\"]),\n",
    "    df[\"GEO Region\"] == \"Europe\",\n",
    "    df[\"GEO Region\"].isin([\"Asia\", \"Middle East\"])\n",
    "]\n",
    "\n",
    "choices = [\"America\", \"Europe\", \"Asia\"]\n",
    "\n",
    "df[\"Continent\"] = np.select(conditions, choices, default=\"Oceania\")\n"
   ]
  },
  {
   "cell_type": "code",
   "execution_count": 36,
   "id": "7ac32b33",
   "metadata": {},
   "outputs": [
    {
     "data": {
      "text/plain": [
       "America    10704\n",
       "Asia        4427\n",
       "Europe      2803\n",
       "Oceania      951\n",
       "Name: Continent, dtype: int64"
      ]
     },
     "execution_count": 36,
     "metadata": {},
     "output_type": "execute_result"
    }
   ],
   "source": [
    "df.Continent.value_counts()"
   ]
  },
  {
   "cell_type": "code",
   "execution_count": 37,
   "id": "fb384b83",
   "metadata": {},
   "outputs": [
    {
     "data": {
      "text/plain": [
       "Enplaned          8930\n",
       "Deplaned          8909\n",
       "Thru / Transit    1046\n",
       "Name: Activity Type Code, dtype: int64"
      ]
     },
     "execution_count": 37,
     "metadata": {},
     "output_type": "execute_result"
    }
   ],
   "source": [
    "df[\"Activity Type Code\"].value_counts()"
   ]
  },
  {
   "cell_type": "code",
   "execution_count": 38,
   "id": "32883175",
   "metadata": {},
   "outputs": [
    {
     "data": {
      "text/plain": [
       "Other       16521\n",
       "Low Fare     2364\n",
       "Name: Price Category Code, dtype: int64"
      ]
     },
     "execution_count": 38,
     "metadata": {},
     "output_type": "execute_result"
    }
   ],
   "source": [
    "df[\"Price Category Code\"].value_counts()"
   ]
  },
  {
   "cell_type": "code",
   "execution_count": 39,
   "id": "49e3fe39",
   "metadata": {},
   "outputs": [],
   "source": [
    "df[\"Price Category Code\"] = df[\"Price Category Code\"].replace(\"Low Fare\", 1)\n",
    "df[\"Price Category Code\"] = df[\"Price Category Code\"].replace(\"Other\", 2)"
   ]
  },
  {
   "cell_type": "code",
   "execution_count": 40,
   "id": "b694e666",
   "metadata": {},
   "outputs": [
    {
     "data": {
      "text/plain": [
       "International    11963\n",
       "Terminal 1        3610\n",
       "Terminal 3        2699\n",
       "Terminal 2         586\n",
       "Other               27\n",
       "Name: Terminal, dtype: int64"
      ]
     },
     "execution_count": 40,
     "metadata": {},
     "output_type": "execute_result"
    }
   ],
   "source": [
    "df[\"Terminal\"].value_counts()"
   ]
  },
  {
   "cell_type": "code",
   "execution_count": 41,
   "id": "3bec42d5",
   "metadata": {},
   "outputs": [],
   "source": [
    "# if GEO Summary is International, Terminal is International\n",
    "df.loc[df[\"GEO Summary\"] == \"International\", \"Terminal\"] = \"International\""
   ]
  },
  {
   "cell_type": "markdown",
   "id": "c24f78a7",
   "metadata": {},
   "source": [
    "Assign the Terminal values of rows where Terminal is Other and GEO Summary is Domestic to Terminal 1, Terminal 2, or Terminal 3 based on their frequency distribution in the rest of the dataset.\n"
   ]
  },
  {
   "cell_type": "code",
   "execution_count": 42,
   "id": "54b5e9b4",
   "metadata": {},
   "outputs": [],
   "source": [
    "condition = (df['Terminal'] == 'Other') & (df['GEO Summary'] == 'Domestic')\n",
    "\n",
    "terminal_counts = df.loc[~condition, 'Terminal'].value_counts(normalize=True)\n",
    "\n",
    "df.loc[condition, 'Terminal'] = pd.Series(\n",
    "    np.random.choice(\n",
    "        terminal_counts.index, \n",
    "        size=condition.sum(), \n",
    "        p=terminal_counts.values\n",
    "    ), \n",
    "    index=df[condition].index\n",
    ")"
   ]
  },
  {
   "cell_type": "code",
   "execution_count": 43,
   "id": "a9d931b5",
   "metadata": {},
   "outputs": [
    {
     "data": {
      "text/plain": [
       "(A        6679\n",
       " G        5304\n",
       " B        2128\n",
       " F        1682\n",
       " C        1462\n",
       " E        1017\n",
       " D         586\n",
       " Other      27\n",
       " Name: Boarding Area, dtype: int64,\n",
       " 0)"
      ]
     },
     "execution_count": 43,
     "metadata": {},
     "output_type": "execute_result"
    }
   ],
   "source": [
    "df[\"Boarding Area\"].value_counts(),df[\"Boarding Area\"].isnull().sum()"
   ]
  },
  {
   "cell_type": "code",
   "execution_count": 44,
   "id": "ae0a640e",
   "metadata": {},
   "outputs": [],
   "source": [
    "condition = df['Boarding Area'] == \"Other\"\n",
    "\n",
    "terminal_counts = df.loc[~condition, 'Boarding Area'].value_counts(normalize=True)\n",
    "\n",
    "df.loc[condition, 'Boarding Area'] = pd.Series(\n",
    "    np.random.choice(\n",
    "        terminal_counts.index, \n",
    "        size=condition.sum(), \n",
    "        p=terminal_counts.values\n",
    "    ), \n",
    "    index=df[condition].index\n",
    ")"
   ]
  },
  {
   "cell_type": "code",
   "execution_count": 45,
   "id": "0592dfc2",
   "metadata": {},
   "outputs": [],
   "source": [
    "# replace letter with number\n",
    "df[\"Boarding Area\"] = df[\"Boarding Area\"].replace(\"A\", 1)\n",
    "df[\"Boarding Area\"] = df[\"Boarding Area\"].replace(\"B\", 2)\n",
    "df[\"Boarding Area\"] = df[\"Boarding Area\"].replace(\"C\", 3)\n",
    "df[\"Boarding Area\"] = df[\"Boarding Area\"].replace(\"D\", 4)\n",
    "df[\"Boarding Area\"] = df[\"Boarding Area\"].replace(\"E\", 5)\n",
    "df[\"Boarding Area\"] = df[\"Boarding Area\"].replace(\"F\", 6)\n",
    "df[\"Boarding Area\"] = df[\"Boarding Area\"].replace(\"G\", 7)"
   ]
  },
  {
   "cell_type": "code",
   "execution_count": 46,
   "id": "8b7b59d7",
   "metadata": {},
   "outputs": [
    {
     "name": "stdout",
     "output_type": "stream",
     "text": [
      "<class 'pandas.core.frame.DataFrame'>\n",
      "RangeIndex: 18885 entries, 0 to 18884\n",
      "Data columns (total 11 columns):\n",
      " #   Column                       Non-Null Count  Dtype \n",
      "---  ------                       --------------  ----- \n",
      " 0   Activity Period              18885 non-null  int64 \n",
      " 1   Operating Airline IATA Code  18885 non-null  object\n",
      " 2   Published Airline IATA Code  18885 non-null  object\n",
      " 3   GEO Summary                  18885 non-null  object\n",
      " 4   GEO Region                   18885 non-null  object\n",
      " 5   Activity Type Code           18885 non-null  object\n",
      " 6   Price Category Code          18885 non-null  int64 \n",
      " 7   Terminal                     18885 non-null  object\n",
      " 8   Boarding Area                18885 non-null  int64 \n",
      " 9   Passenger Count              18885 non-null  int64 \n",
      " 10  Continent                    18885 non-null  object\n",
      "dtypes: int64(4), object(7)\n",
      "memory usage: 1.6+ MB\n"
     ]
    }
   ],
   "source": [
    "df.info()"
   ]
  },
  {
   "cell_type": "code",
   "execution_count": 47,
   "id": "fd5c0179",
   "metadata": {},
   "outputs": [],
   "source": [
    "# del df[\"Operating Airline IATA Code\"] , df[\"Published Airline IATA Code\"]"
   ]
  },
  {
   "cell_type": "code",
   "execution_count": 48,
   "id": "da442dab",
   "metadata": {},
   "outputs": [],
   "source": [
    "del df[\"GEO Region\"]"
   ]
  },
  {
   "cell_type": "code",
   "execution_count": 49,
   "id": "0699b60d",
   "metadata": {},
   "outputs": [
    {
     "name": "stdout",
     "output_type": "stream",
     "text": [
      "<class 'pandas.core.frame.DataFrame'>\n",
      "RangeIndex: 18885 entries, 0 to 18884\n",
      "Data columns (total 10 columns):\n",
      " #   Column                       Non-Null Count  Dtype \n",
      "---  ------                       --------------  ----- \n",
      " 0   Activity Period              18885 non-null  int64 \n",
      " 1   Operating Airline IATA Code  18885 non-null  object\n",
      " 2   Published Airline IATA Code  18885 non-null  object\n",
      " 3   GEO Summary                  18885 non-null  object\n",
      " 4   Activity Type Code           18885 non-null  object\n",
      " 5   Price Category Code          18885 non-null  int64 \n",
      " 6   Terminal                     18885 non-null  object\n",
      " 7   Boarding Area                18885 non-null  int64 \n",
      " 8   Passenger Count              18885 non-null  int64 \n",
      " 9   Continent                    18885 non-null  object\n",
      "dtypes: int64(4), object(6)\n",
      "memory usage: 1.4+ MB\n"
     ]
    }
   ],
   "source": [
    "df.info()"
   ]
  },
  {
   "cell_type": "code",
   "execution_count": 50,
   "id": "10007dc1",
   "metadata": {},
   "outputs": [],
   "source": [
    "df[\"year\"] = pd.to_datetime(df[\"Activity Period\"], format=\"%Y%m\").dt.year\n",
    "df[\"month\"] = pd.to_datetime(df[\"Activity Period\"], format=\"%Y%m\").dt.month"
   ]
  },
  {
   "cell_type": "code",
   "execution_count": 51,
   "id": "6d3d941d",
   "metadata": {},
   "outputs": [],
   "source": [
    "del df[\"Activity Period\"]"
   ]
  },
  {
   "cell_type": "code",
   "execution_count": null,
   "id": "b07c71b2",
   "metadata": {},
   "outputs": [],
   "source": []
  },
  {
   "cell_type": "markdown",
   "id": "c4449490",
   "metadata": {},
   "source": [
    "### Dummy\n",
    "* GEO Summary\n",
    "* Continent\n",
    "* Activity Type Code\n",
    "* Terminal"
   ]
  },
  {
   "cell_type": "code",
   "execution_count": 52,
   "id": "0fcc225b",
   "metadata": {},
   "outputs": [
    {
     "data": {
      "text/plain": [
       "(18885, 183)"
      ]
     },
     "execution_count": 52,
     "metadata": {},
     "output_type": "execute_result"
    }
   ],
   "source": [
    "## Dummy \n",
    "# GEO Summary\n",
    "# Continent\n",
    "# Activity Type Code\n",
    "# Terminal\n",
    "df = pd.get_dummies(df, columns=[\"GEO Summary\", \"Continent\", \"Activity Type Code\", \"Terminal\"])\n",
    "df = pd.get_dummies(df, columns=[\"Operating Airline IATA Code\", \"Published Airline IATA Code\"])\n",
    "df.shape"
   ]
  },
  {
   "cell_type": "code",
   "execution_count": 53,
   "id": "5d5d2e6a",
   "metadata": {},
   "outputs": [
    {
     "data": {
      "text/html": [
       "<div>\n",
       "<style scoped>\n",
       "    .dataframe tbody tr th:only-of-type {\n",
       "        vertical-align: middle;\n",
       "    }\n",
       "\n",
       "    .dataframe tbody tr th {\n",
       "        vertical-align: top;\n",
       "    }\n",
       "\n",
       "    .dataframe thead th {\n",
       "        text-align: right;\n",
       "    }\n",
       "</style>\n",
       "<table border=\"1\" class=\"dataframe\">\n",
       "  <thead>\n",
       "    <tr style=\"text-align: right;\">\n",
       "      <th></th>\n",
       "      <th>Price Category Code</th>\n",
       "      <th>Boarding Area</th>\n",
       "      <th>Passenger Count</th>\n",
       "      <th>year</th>\n",
       "      <th>month</th>\n",
       "      <th>GEO Summary_Domestic</th>\n",
       "      <th>GEO Summary_International</th>\n",
       "      <th>Continent_America</th>\n",
       "      <th>Continent_Asia</th>\n",
       "      <th>Continent_Europe</th>\n",
       "      <th>...</th>\n",
       "      <th>Published Airline IATA Code_US</th>\n",
       "      <th>Published Airline IATA Code_VS</th>\n",
       "      <th>Published Airline IATA Code_VX</th>\n",
       "      <th>Published Airline IATA Code_WN</th>\n",
       "      <th>Published Airline IATA Code_WO</th>\n",
       "      <th>Published Airline IATA Code_WS</th>\n",
       "      <th>Published Airline IATA Code_WW</th>\n",
       "      <th>Published Airline IATA Code_XP</th>\n",
       "      <th>Published Airline IATA Code_Y4</th>\n",
       "      <th>Published Airline IATA Code_YX</th>\n",
       "    </tr>\n",
       "  </thead>\n",
       "  <tbody>\n",
       "    <tr>\n",
       "      <th>0</th>\n",
       "      <td>1</td>\n",
       "      <td>2</td>\n",
       "      <td>27271</td>\n",
       "      <td>2005</td>\n",
       "      <td>7</td>\n",
       "      <td>1</td>\n",
       "      <td>0</td>\n",
       "      <td>1</td>\n",
       "      <td>0</td>\n",
       "      <td>0</td>\n",
       "      <td>...</td>\n",
       "      <td>0</td>\n",
       "      <td>0</td>\n",
       "      <td>0</td>\n",
       "      <td>0</td>\n",
       "      <td>0</td>\n",
       "      <td>0</td>\n",
       "      <td>0</td>\n",
       "      <td>0</td>\n",
       "      <td>0</td>\n",
       "      <td>0</td>\n",
       "    </tr>\n",
       "    <tr>\n",
       "      <th>1</th>\n",
       "      <td>1</td>\n",
       "      <td>2</td>\n",
       "      <td>29131</td>\n",
       "      <td>2005</td>\n",
       "      <td>7</td>\n",
       "      <td>1</td>\n",
       "      <td>0</td>\n",
       "      <td>1</td>\n",
       "      <td>0</td>\n",
       "      <td>0</td>\n",
       "      <td>...</td>\n",
       "      <td>0</td>\n",
       "      <td>0</td>\n",
       "      <td>0</td>\n",
       "      <td>0</td>\n",
       "      <td>0</td>\n",
       "      <td>0</td>\n",
       "      <td>0</td>\n",
       "      <td>0</td>\n",
       "      <td>0</td>\n",
       "      <td>0</td>\n",
       "    </tr>\n",
       "    <tr>\n",
       "      <th>2</th>\n",
       "      <td>1</td>\n",
       "      <td>2</td>\n",
       "      <td>5415</td>\n",
       "      <td>2005</td>\n",
       "      <td>7</td>\n",
       "      <td>1</td>\n",
       "      <td>0</td>\n",
       "      <td>1</td>\n",
       "      <td>0</td>\n",
       "      <td>0</td>\n",
       "      <td>...</td>\n",
       "      <td>0</td>\n",
       "      <td>0</td>\n",
       "      <td>0</td>\n",
       "      <td>0</td>\n",
       "      <td>0</td>\n",
       "      <td>0</td>\n",
       "      <td>0</td>\n",
       "      <td>0</td>\n",
       "      <td>0</td>\n",
       "      <td>0</td>\n",
       "    </tr>\n",
       "    <tr>\n",
       "      <th>3</th>\n",
       "      <td>2</td>\n",
       "      <td>2</td>\n",
       "      <td>35156</td>\n",
       "      <td>2005</td>\n",
       "      <td>7</td>\n",
       "      <td>0</td>\n",
       "      <td>1</td>\n",
       "      <td>1</td>\n",
       "      <td>0</td>\n",
       "      <td>0</td>\n",
       "      <td>...</td>\n",
       "      <td>0</td>\n",
       "      <td>0</td>\n",
       "      <td>0</td>\n",
       "      <td>0</td>\n",
       "      <td>0</td>\n",
       "      <td>0</td>\n",
       "      <td>0</td>\n",
       "      <td>0</td>\n",
       "      <td>0</td>\n",
       "      <td>0</td>\n",
       "    </tr>\n",
       "    <tr>\n",
       "      <th>4</th>\n",
       "      <td>2</td>\n",
       "      <td>2</td>\n",
       "      <td>34090</td>\n",
       "      <td>2005</td>\n",
       "      <td>7</td>\n",
       "      <td>0</td>\n",
       "      <td>1</td>\n",
       "      <td>1</td>\n",
       "      <td>0</td>\n",
       "      <td>0</td>\n",
       "      <td>...</td>\n",
       "      <td>0</td>\n",
       "      <td>0</td>\n",
       "      <td>0</td>\n",
       "      <td>0</td>\n",
       "      <td>0</td>\n",
       "      <td>0</td>\n",
       "      <td>0</td>\n",
       "      <td>0</td>\n",
       "      <td>0</td>\n",
       "      <td>0</td>\n",
       "    </tr>\n",
       "  </tbody>\n",
       "</table>\n",
       "<p>5 rows × 183 columns</p>\n",
       "</div>"
      ],
      "text/plain": [
       "   Price Category Code  Boarding Area  Passenger Count  year  month  \\\n",
       "0                    1              2            27271  2005      7   \n",
       "1                    1              2            29131  2005      7   \n",
       "2                    1              2             5415  2005      7   \n",
       "3                    2              2            35156  2005      7   \n",
       "4                    2              2            34090  2005      7   \n",
       "\n",
       "   GEO Summary_Domestic  GEO Summary_International  Continent_America  \\\n",
       "0                     1                          0                  1   \n",
       "1                     1                          0                  1   \n",
       "2                     1                          0                  1   \n",
       "3                     0                          1                  1   \n",
       "4                     0                          1                  1   \n",
       "\n",
       "   Continent_Asia  Continent_Europe  ...  Published Airline IATA Code_US  \\\n",
       "0               0                 0  ...                               0   \n",
       "1               0                 0  ...                               0   \n",
       "2               0                 0  ...                               0   \n",
       "3               0                 0  ...                               0   \n",
       "4               0                 0  ...                               0   \n",
       "\n",
       "   Published Airline IATA Code_VS  Published Airline IATA Code_VX  \\\n",
       "0                               0                               0   \n",
       "1                               0                               0   \n",
       "2                               0                               0   \n",
       "3                               0                               0   \n",
       "4                               0                               0   \n",
       "\n",
       "   Published Airline IATA Code_WN  Published Airline IATA Code_WO  \\\n",
       "0                               0                               0   \n",
       "1                               0                               0   \n",
       "2                               0                               0   \n",
       "3                               0                               0   \n",
       "4                               0                               0   \n",
       "\n",
       "   Published Airline IATA Code_WS  Published Airline IATA Code_WW  \\\n",
       "0                               0                               0   \n",
       "1                               0                               0   \n",
       "2                               0                               0   \n",
       "3                               0                               0   \n",
       "4                               0                               0   \n",
       "\n",
       "   Published Airline IATA Code_XP  Published Airline IATA Code_Y4  \\\n",
       "0                               0                               0   \n",
       "1                               0                               0   \n",
       "2                               0                               0   \n",
       "3                               0                               0   \n",
       "4                               0                               0   \n",
       "\n",
       "   Published Airline IATA Code_YX  \n",
       "0                               0  \n",
       "1                               0  \n",
       "2                               0  \n",
       "3                               0  \n",
       "4                               0  \n",
       "\n",
       "[5 rows x 183 columns]"
      ]
     },
     "execution_count": 53,
     "metadata": {},
     "output_type": "execute_result"
    }
   ],
   "source": [
    "df.head()"
   ]
  },
  {
   "cell_type": "code",
   "execution_count": 54,
   "id": "06a8714c",
   "metadata": {},
   "outputs": [
    {
     "name": "stderr",
     "output_type": "stream",
     "text": [
      "/Users/mac/opt/anaconda3/lib/python3.8/site-packages/sklearn/cluster/_kmeans.py:1416: FutureWarning: The default value of `n_init` will change from 10 to 'auto' in 1.4. Set the value of `n_init` explicitly to suppress the warning\n",
      "  super()._check_params_vs_input(X, default_n_init=10)\n",
      "/Users/mac/opt/anaconda3/lib/python3.8/site-packages/sklearn/cluster/_kmeans.py:1416: FutureWarning: The default value of `n_init` will change from 10 to 'auto' in 1.4. Set the value of `n_init` explicitly to suppress the warning\n",
      "  super()._check_params_vs_input(X, default_n_init=10)\n",
      "/Users/mac/opt/anaconda3/lib/python3.8/site-packages/sklearn/cluster/_kmeans.py:1416: FutureWarning: The default value of `n_init` will change from 10 to 'auto' in 1.4. Set the value of `n_init` explicitly to suppress the warning\n",
      "  super()._check_params_vs_input(X, default_n_init=10)\n",
      "/Users/mac/opt/anaconda3/lib/python3.8/site-packages/sklearn/cluster/_kmeans.py:1416: FutureWarning: The default value of `n_init` will change from 10 to 'auto' in 1.4. Set the value of `n_init` explicitly to suppress the warning\n",
      "  super()._check_params_vs_input(X, default_n_init=10)\n",
      "/Users/mac/opt/anaconda3/lib/python3.8/site-packages/sklearn/cluster/_kmeans.py:1416: FutureWarning: The default value of `n_init` will change from 10 to 'auto' in 1.4. Set the value of `n_init` explicitly to suppress the warning\n",
      "  super()._check_params_vs_input(X, default_n_init=10)\n",
      "/Users/mac/opt/anaconda3/lib/python3.8/site-packages/sklearn/cluster/_kmeans.py:1416: FutureWarning: The default value of `n_init` will change from 10 to 'auto' in 1.4. Set the value of `n_init` explicitly to suppress the warning\n",
      "  super()._check_params_vs_input(X, default_n_init=10)\n",
      "/Users/mac/opt/anaconda3/lib/python3.8/site-packages/sklearn/cluster/_kmeans.py:1416: FutureWarning: The default value of `n_init` will change from 10 to 'auto' in 1.4. Set the value of `n_init` explicitly to suppress the warning\n",
      "  super()._check_params_vs_input(X, default_n_init=10)\n",
      "/Users/mac/opt/anaconda3/lib/python3.8/site-packages/sklearn/cluster/_kmeans.py:1416: FutureWarning: The default value of `n_init` will change from 10 to 'auto' in 1.4. Set the value of `n_init` explicitly to suppress the warning\n",
      "  super()._check_params_vs_input(X, default_n_init=10)\n"
     ]
    },
    {
     "data": {
      "image/png": "[encoded data removed]",
      "text/plain": [
       "<Figure size 800x550 with 2 Axes>"
      ]
     },
     "metadata": {},
     "output_type": "display_data"
    },
    {
     "data": {
      "text/plain": [
       "<Axes: title={'center': 'Distortion Score Elbow for KMeans Clustering'}, xlabel='k', ylabel='distortion score'>"
      ]
     },
     "execution_count": 54,
     "metadata": {},
     "output_type": "execute_result"
    }
   ],
   "source": [
    "from sklearn import datasets\n",
    "from sklearn.cluster import KMeans\n",
    "from yellowbrick.cluster import KElbowVisualizer, SilhouetteVisualizer\n",
    "\n",
    "X = df\n",
    "\n",
    "\n",
    "km = KMeans(random_state=42)\n",
    "visualizer = KElbowVisualizer(km, k=(2,10))\n",
    "visualizer.fit(X) # Fit the data to the visualizer\n",
    "visualizer.show() # Finalize and render the figure"
   ]
  },
  {
   "cell_type": "code",
   "execution_count": 55,
   "id": "91e888bc",
   "metadata": {},
   "outputs": [
    {
     "name": "stderr",
     "output_type": "stream",
     "text": [
      "/Users/mac/opt/anaconda3/lib/python3.8/site-packages/sklearn/cluster/_kmeans.py:1416: FutureWarning: The default value of `n_init` will change from 10 to 'auto' in 1.4. Set the value of `n_init` explicitly to suppress the warning\n",
      "  super()._check_params_vs_input(X, default_n_init=10)\n"
     ]
    },
    {
     "data": {
      "image/png": "[encoded data removed]",
      "text/plain": [
       "<Figure size 800x550 with 1 Axes>"
      ]
     },
     "metadata": {},
     "output_type": "display_data"
    },
    {
     "data": {
      "text/plain": [
       "<Axes: title={'center': 'Silhouette Plot of KMeans Clustering for 18885 Samples in 3 Centers'}, xlabel='silhouette coefficient values', ylabel='cluster label'>"
      ]
     },
     "execution_count": 55,
     "metadata": {},
     "output_type": "execute_result"
    }
   ],
   "source": [
    "km = KMeans(n_clusters=3, random_state=42)\n",
    "# Silhouette score for 3 clusters\n",
    "visualizer = SilhouetteVisualizer(km, colors='yellowbrick')\n",
    "visualizer.fit(X)\n",
    "visualizer.show()\n"
   ]
  },
  {
   "cell_type": "code",
   "execution_count": 56,
   "id": "740ca3ea",
   "metadata": {},
   "outputs": [
    {
     "name": "stderr",
     "output_type": "stream",
     "text": [
      "/Users/mac/opt/anaconda3/lib/python3.8/site-packages/sklearn/cluster/_kmeans.py:1416: FutureWarning: The default value of `n_init` will change from 10 to 'auto' in 1.4. Set the value of `n_init` explicitly to suppress the warning\n",
      "  super()._check_params_vs_input(X, default_n_init=10)\n"
     ]
    },
    {
     "data": {
      "text/plain": [
       "<matplotlib.collections.PathCollection at 0x7fa17011ba30>"
      ]
     },
     "execution_count": 56,
     "metadata": {},
     "output_type": "execute_result"
    },
    {
     "data": {
      "image/png": "[encoded data removed]",
      "text/plain": [
       "<Figure size 800x550 with 1 Axes>"
      ]
     },
     "metadata": {},
     "output_type": "display_data"
    }
   ],
   "source": [
    "#scatter\n",
    "from sklearn.decomposition import PCA\n",
    "import matplotlib.pyplot as plt\n",
    "\n",
    "pca = PCA(n_components=2)\n",
    "X_reduced = pca.fit_transform(X)\n",
    "\n",
    "km = KMeans(n_clusters=3, random_state=42)\n",
    "km.fit(X)\n",
    "y_kmeans = km.predict(X)\n",
    "\n",
    "plt.scatter(X_reduced[:, 0], X_reduced[:, 1], c=y_kmeans, s=50, cmap='viridis')\n"
   ]
  },
  {
   "cell_type": "code",
   "execution_count": 57,
   "id": "c6172129",
   "metadata": {},
   "outputs": [
    {
     "data": {
      "text/plain": [
       "<matplotlib.collections.PathCollection at 0x7fa1701d4d30>"
      ]
     },
     "execution_count": 57,
     "metadata": {},
     "output_type": "execute_result"
    },
    {
     "data": {
      "image/png": "[encoded data removed]",
      "text/plain": [
       "<Figure size 800x550 with 1 Axes>"
      ]
     },
     "metadata": {},
     "output_type": "display_data"
    }
   ],
   "source": [
    "centers = km.cluster_centers_\n",
    "plt.scatter(centers[:, 0], centers[:, 1], c='red', s=200, alpha=0.5)"
   ]
  },
  {
   "cell_type": "markdown",
   "id": "8804c2a9",
   "metadata": {},
   "source": [
    "In summary, we effectively cleaned and prepared the San Francisco Airport air traffic passenger statistics dataset. This involved addressing missing values, applying feature engineering, and converting categorical data into numerical form. By implementing the KMeans clustering algorithm, we uncovered clear groupings within the dataset, offering valuable insights into passenger traffic trends. The resulting visualizations and cluster analysis can support strategic decision-making in airport management and operations. This project highlights the critical role of data preprocessing and clustering in deriving actionable insights from complex data."
   ]
  }
 ],
 "metadata": {
  "kernelspec": {
   "display_name": "base",
   "language": "python",
   "name": "python3"
  },
  "language_info": {
   "codemirror_mode": {
    "name": "ipython",
    "version": 3
   },
   "file_extension": ".py",
   "mimetype": "text/x-python",
   "name": "python",
   "nbconvert_exporter": "python",
   "pygments_lexer": "ipython3",
   "version": "3.8.8"
  }
 },
 "nbformat": 4,
 "nbformat_minor": 5
}
